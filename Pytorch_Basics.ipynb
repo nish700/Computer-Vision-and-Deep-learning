{
  "nbformat": 4,
  "nbformat_minor": 0,
  "metadata": {
    "colab": {
      "name": "Pytorch_Intro.ipynb",
      "provenance": [],
      "collapsed_sections": [],
      "include_colab_link": true
    },
    "kernelspec": {
      "name": "python3",
      "display_name": "Python 3"
    },
    "accelerator": "GPU"
  },
  "cells": [
    {
      "cell_type": "markdown",
      "metadata": {
        "id": "view-in-github",
        "colab_type": "text"
      },
      "source": [
        "<a href=\"https://colab.research.google.com/github/nish700/Computer-Vision-and-Deep-learning/blob/master/Pytorch_Basics.ipynb\" target=\"_parent\"><img src=\"https://colab.research.google.com/assets/colab-badge.svg\" alt=\"Open In Colab\"/></a>"
      ]
    },
    {
      "cell_type": "code",
      "metadata": {
        "id": "kzsBt2_LEySM",
        "colab_type": "code",
        "colab": {}
      },
      "source": [
        "import torch\n",
        "import numpy as np\n",
        "import matplotlib.pyplot as plt"
      ],
      "execution_count": 0,
      "outputs": []
    },
    {
      "cell_type": "markdown",
      "metadata": {
        "id": "TIYNSfxGItG9",
        "colab_type": "text"
      },
      "source": [
        "#Initialise Tensor\n"
      ]
    },
    {
      "cell_type": "code",
      "metadata": {
        "id": "do8hCcMRsasz",
        "colab_type": "code",
        "colab": {}
      },
      "source": [
        "## this section contains code to initialize variables using torch"
      ],
      "execution_count": 0,
      "outputs": []
    },
    {
      "cell_type": "code",
      "metadata": {
        "id": "wTEwjrCIF4hj",
        "colab_type": "code",
        "outputId": "3ddaaeaa-6944-421d-fa4c-5e90a7952989",
        "colab": {
          "base_uri": "https://localhost:8080/",
          "height": 173
        }
      },
      "source": [
        "x = torch.ones(3,2)\n",
        "print(x)\n",
        "x = torch.zeros(3,2)\n",
        "print(x)\n",
        "x = torch.randn(3,2)\n",
        "print(x)"
      ],
      "execution_count": 2,
      "outputs": [
        {
          "output_type": "stream",
          "text": [
            "tensor([[1., 1.],\n",
            "        [1., 1.],\n",
            "        [1., 1.]])\n",
            "tensor([[0., 0.],\n",
            "        [0., 0.],\n",
            "        [0., 0.]])\n",
            "tensor([[ 1.1245, -1.1017],\n",
            "        [ 1.6710,  0.0963],\n",
            "        [-0.4301,  0.0740]])\n"
          ],
          "name": "stdout"
        }
      ]
    },
    {
      "cell_type": "code",
      "metadata": {
        "id": "SiQEu80CGo16",
        "colab_type": "code",
        "outputId": "774cce0f-8bb2-4c2f-a3df-70a78aa48764",
        "colab": {
          "base_uri": "https://localhost:8080/",
          "height": 121
        }
      },
      "source": [
        "x = torch.empty(3,2)\n",
        "print(x)\n",
        "y = torch.zeros_like(x)\n",
        "print(y)"
      ],
      "execution_count": 3,
      "outputs": [
        {
          "output_type": "stream",
          "text": [
            "tensor([[2.9974e-36, 0.0000e+00],\n",
            "        [0.0000e+00, 0.0000e+00],\n",
            "        [0.0000e+00, 0.0000e+00]])\n",
            "tensor([[0., 0.],\n",
            "        [0., 0.],\n",
            "        [0., 0.]])\n"
          ],
          "name": "stdout"
        }
      ]
    },
    {
      "cell_type": "code",
      "metadata": {
        "id": "C8pywWsSHK-v",
        "colab_type": "code",
        "outputId": "09c85bcb-28d3-402f-911a-d3a156666274",
        "colab": {
          "base_uri": "https://localhost:8080/",
          "height": 35
        }
      },
      "source": [
        "x = torch.linspace(0,1,steps=5)\n",
        "print(x)"
      ],
      "execution_count": 4,
      "outputs": [
        {
          "output_type": "stream",
          "text": [
            "tensor([0.0000, 0.2500, 0.5000, 0.7500, 1.0000])\n"
          ],
          "name": "stdout"
        }
      ]
    },
    {
      "cell_type": "code",
      "metadata": {
        "id": "vNSUAtkyHgxJ",
        "colab_type": "code",
        "outputId": "415a1961-ecdf-4753-9b90-74d0cab6bc68",
        "colab": {
          "base_uri": "https://localhost:8080/",
          "height": 69
        }
      },
      "source": [
        "x = torch.tensor([[1,2],[3,4],[5,6]])\n",
        "print(x)"
      ],
      "execution_count": 5,
      "outputs": [
        {
          "output_type": "stream",
          "text": [
            "tensor([[1, 2],\n",
            "        [3, 4],\n",
            "        [5, 6]])\n"
          ],
          "name": "stdout"
        }
      ]
    },
    {
      "cell_type": "markdown",
      "metadata": {
        "id": "gjPX43j6IySJ",
        "colab_type": "text"
      },
      "source": [
        "#Slicing tensor"
      ]
    },
    {
      "cell_type": "code",
      "metadata": {
        "id": "dMPzOXgpsq8V",
        "colab_type": "code",
        "colab": {}
      },
      "source": [
        "##this section contains the code sample to slice the tensor variables , its just like we do for numpy variables"
      ],
      "execution_count": 0,
      "outputs": []
    },
    {
      "cell_type": "code",
      "metadata": {
        "id": "fLSjr_Y6HsgQ",
        "colab_type": "code",
        "outputId": "d8cf3853-ac2e-4260-ba2a-1dcc0954aa66",
        "colab": {
          "base_uri": "https://localhost:8080/",
          "height": 69
        }
      },
      "source": [
        "print(x.size())\n",
        "print(x[:,0])\n",
        "print(x[0,:])"
      ],
      "execution_count": 6,
      "outputs": [
        {
          "output_type": "stream",
          "text": [
            "torch.Size([3, 2])\n",
            "tensor([1, 3, 5])\n",
            "tensor([1, 2])\n"
          ],
          "name": "stdout"
        }
      ]
    },
    {
      "cell_type": "code",
      "metadata": {
        "id": "BgTRRnDzKSTz",
        "colab_type": "code",
        "outputId": "8ee3a6b4-1d17-4f92-a5df-52f6c131da46",
        "colab": {
          "base_uri": "https://localhost:8080/",
          "height": 52
        }
      },
      "source": [
        "y = x[1,1]\n",
        "print(y)\n",
        "print(y.item())"
      ],
      "execution_count": 7,
      "outputs": [
        {
          "output_type": "stream",
          "text": [
            "tensor(4)\n",
            "4\n"
          ],
          "name": "stdout"
        }
      ]
    },
    {
      "cell_type": "markdown",
      "metadata": {
        "id": "toqGx8WkK6Y4",
        "colab_type": "text"
      },
      "source": [
        "#Reshaping Tensors"
      ]
    },
    {
      "cell_type": "code",
      "metadata": {
        "id": "9iI1zTmxs31i",
        "colab_type": "code",
        "colab": {}
      },
      "source": [
        "## this section contains the sample for reshaping tensor to desired shape"
      ],
      "execution_count": 0,
      "outputs": []
    },
    {
      "cell_type": "code",
      "metadata": {
        "id": "yiFNrcneKrZH",
        "colab_type": "code",
        "outputId": "374985bd-afa9-4cb4-aadd-2ecb0f55b8ff",
        "colab": {
          "base_uri": "https://localhost:8080/",
          "height": 104
        }
      },
      "source": [
        "print(x)\n",
        "y = x.view(2,3)\n",
        "print(y)"
      ],
      "execution_count": 8,
      "outputs": [
        {
          "output_type": "stream",
          "text": [
            "tensor([[1, 2],\n",
            "        [3, 4],\n",
            "        [5, 6]])\n",
            "tensor([[1, 2, 3],\n",
            "        [4, 5, 6]])\n"
          ],
          "name": "stdout"
        }
      ]
    },
    {
      "cell_type": "code",
      "metadata": {
        "id": "KlNr2873PQyn",
        "colab_type": "code",
        "outputId": "780c2816-3869-4958-d647-77e6f710edab",
        "colab": {
          "base_uri": "https://localhost:8080/",
          "height": 121
        }
      },
      "source": [
        "y = x.view(6,-1)\n",
        "print(y)"
      ],
      "execution_count": 9,
      "outputs": [
        {
          "output_type": "stream",
          "text": [
            "tensor([[1],\n",
            "        [2],\n",
            "        [3],\n",
            "        [4],\n",
            "        [5],\n",
            "        [6]])\n"
          ],
          "name": "stdout"
        }
      ]
    },
    {
      "cell_type": "markdown",
      "metadata": {
        "id": "IscyUKi3exbe",
        "colab_type": "text"
      },
      "source": [
        "#Simple Tensor Operations"
      ]
    },
    {
      "cell_type": "code",
      "metadata": {
        "id": "5UX5no0xtB9j",
        "colab_type": "code",
        "colab": {}
      },
      "source": [
        "## this section contains simple tensor operations such as addition , substraction and multiplication"
      ],
      "execution_count": 0,
      "outputs": []
    },
    {
      "cell_type": "code",
      "metadata": {
        "id": "aajA4wCFPcnN",
        "colab_type": "code",
        "outputId": "b75f703a-3fb2-4e63-a021-3f229f014ff3",
        "colab": {
          "base_uri": "https://localhost:8080/",
          "height": 277
        }
      },
      "source": [
        "x = torch.ones(3,2)\n",
        "y = torch.ones(3,2)\n",
        "print(x)\n",
        "print(y)\n",
        "z_1 = x + y\n",
        "print(z_1)\n",
        "z_2 = x - y \n",
        "print(z_2)\n",
        "z_3 = x * y\n",
        "print(z_3)"
      ],
      "execution_count": 10,
      "outputs": [
        {
          "output_type": "stream",
          "text": [
            "tensor([[1., 1.],\n",
            "        [1., 1.],\n",
            "        [1., 1.]])\n",
            "tensor([[1., 1.],\n",
            "        [1., 1.],\n",
            "        [1., 1.]])\n",
            "tensor([[2., 2.],\n",
            "        [2., 2.],\n",
            "        [2., 2.]])\n",
            "tensor([[0., 0.],\n",
            "        [0., 0.],\n",
            "        [0., 0.]])\n",
            "tensor([[1., 1.],\n",
            "        [1., 1.],\n",
            "        [1., 1.]])\n"
          ],
          "name": "stdout"
        }
      ]
    },
    {
      "cell_type": "code",
      "metadata": {
        "id": "3xxet2k7fIzm",
        "colab_type": "code",
        "outputId": "c618a558-812c-4610-c3c6-d644d0666acc",
        "colab": {
          "base_uri": "https://localhost:8080/",
          "height": 121
        }
      },
      "source": [
        "z = y.add(x)\n",
        "print(z)\n",
        "print(y)"
      ],
      "execution_count": 11,
      "outputs": [
        {
          "output_type": "stream",
          "text": [
            "tensor([[2., 2.],\n",
            "        [2., 2.],\n",
            "        [2., 2.]])\n",
            "tensor([[1., 1.],\n",
            "        [1., 1.],\n",
            "        [1., 1.]])\n"
          ],
          "name": "stdout"
        }
      ]
    },
    {
      "cell_type": "code",
      "metadata": {
        "id": "pUT4ooR7g7gZ",
        "colab_type": "code",
        "outputId": "f2bb4873-66e6-430c-917e-9355e2d823d5",
        "colab": {
          "base_uri": "https://localhost:8080/",
          "height": 121
        }
      },
      "source": [
        "z = y.add_(x)##inplace=True\n",
        "print(z)\n",
        "print(y)"
      ],
      "execution_count": 12,
      "outputs": [
        {
          "output_type": "stream",
          "text": [
            "tensor([[2., 2.],\n",
            "        [2., 2.],\n",
            "        [2., 2.]])\n",
            "tensor([[2., 2.],\n",
            "        [2., 2.],\n",
            "        [2., 2.]])\n"
          ],
          "name": "stdout"
        }
      ]
    },
    {
      "cell_type": "markdown",
      "metadata": {
        "id": "ToNHizvOhHAN",
        "colab_type": "text"
      },
      "source": [
        "#Numpy Vs Pytorch"
      ]
    },
    {
      "cell_type": "code",
      "metadata": {
        "id": "1wEuivditMAh",
        "colab_type": "code",
        "colab": {}
      },
      "source": [
        "## this section contains the code sample to change the dtype from numpy to tensor and vice versa. \n",
        "#Its also compares the performance of similar codes on numpy and tensor framework."
      ],
      "execution_count": 0,
      "outputs": []
    },
    {
      "cell_type": "code",
      "metadata": {
        "id": "f_UpYwWShA5Z",
        "colab_type": "code",
        "outputId": "7e890f01-20fe-4304-849a-88f583935d46",
        "colab": {
          "base_uri": "https://localhost:8080/",
          "height": 87
        }
      },
      "source": [
        "x_np = x.numpy()\n",
        "print(type(x),type(x_np))\n",
        "print(x_np)"
      ],
      "execution_count": 13,
      "outputs": [
        {
          "output_type": "stream",
          "text": [
            "<class 'torch.Tensor'> <class 'numpy.ndarray'>\n",
            "[[1. 1.]\n",
            " [1. 1.]\n",
            " [1. 1.]]\n"
          ],
          "name": "stdout"
        }
      ]
    },
    {
      "cell_type": "code",
      "metadata": {
        "id": "4CfO8SHzhcNd",
        "colab_type": "code",
        "outputId": "89657418-6bad-4ec3-8cdd-ab107a73a710",
        "colab": {
          "base_uri": "https://localhost:8080/",
          "height": 69
        }
      },
      "source": [
        "a = np.random.randn(5)\n",
        "print(a)\n",
        "a_pt = torch.from_numpy(a)\n",
        "print(type(a),type(a_pt))\n",
        "print(a_pt)"
      ],
      "execution_count": 14,
      "outputs": [
        {
          "output_type": "stream",
          "text": [
            "[-1.529153    0.41464487 -0.11181268 -1.36918293  0.10840957]\n",
            "<class 'numpy.ndarray'> <class 'torch.Tensor'>\n",
            "tensor([-1.5292,  0.4146, -0.1118, -1.3692,  0.1084], dtype=torch.float64)\n"
          ],
          "name": "stdout"
        }
      ]
    },
    {
      "cell_type": "code",
      "metadata": {
        "id": "hujykLXNh3Sr",
        "colab_type": "code",
        "outputId": "31aad06a-f859-497b-f5e3-7453bc8eb98e",
        "colab": {
          "base_uri": "https://localhost:8080/",
          "height": 52
        }
      },
      "source": [
        "np.add(a,1,out=a)\n",
        "print(a)\n",
        "print(a_pt)"
      ],
      "execution_count": 15,
      "outputs": [
        {
          "output_type": "stream",
          "text": [
            "[-0.529153    1.41464487  0.88818732 -0.36918293  1.10840957]\n",
            "tensor([-0.5292,  1.4146,  0.8882, -0.3692,  1.1084], dtype=torch.float64)\n"
          ],
          "name": "stdout"
        }
      ]
    },
    {
      "cell_type": "code",
      "metadata": {
        "id": "2SqxzdNNiqqF",
        "colab_type": "code",
        "outputId": "44f03432-699d-4c7b-8564-bd58efbb7f53",
        "colab": {
          "base_uri": "https://localhost:8080/",
          "height": 277
        }
      },
      "source": [
        "%%time\n",
        "for i in range(100):\n",
        "  a = np.random.randn(100,100)\n",
        "  b = np.random.randn(100,100)\n",
        "  c = np.matmul(a,b)\n",
        "print(c)"
      ],
      "execution_count": 16,
      "outputs": [
        {
          "output_type": "stream",
          "text": [
            "[[  3.80733494  -4.55343484   5.48870953 ...  -1.69908167   1.50165632\n",
            "    3.39003255]\n",
            " [ -9.08159705  -3.58928305  22.80486667 ...  -2.69392897  -6.1807819\n",
            "   11.92088218]\n",
            " [  8.0632236    6.94513914  -8.23384979 ...  12.55348756   3.75028073\n",
            "    0.99504804]\n",
            " ...\n",
            " [ 17.85483337  -0.1379174  -15.16342765 ...  -8.51883302  -1.11310804\n",
            "    5.68613497]\n",
            " [ 14.06364629  11.56702395  11.63457084 ...  -5.15904475  21.63143744\n",
            "    4.10795904]\n",
            " [-14.55709993  -9.74030858   0.98112939 ...   2.23031321   1.00947238\n",
            "  -20.47090458]]\n",
            "CPU times: user 151 ms, sys: 81.2 ms, total: 232 ms\n",
            "Wall time: 127 ms\n"
          ],
          "name": "stdout"
        }
      ]
    },
    {
      "cell_type": "code",
      "metadata": {
        "id": "H-s6IImHi-K0",
        "colab_type": "code",
        "outputId": "8547e962-f327-4ede-dbd9-728733a535f3",
        "colab": {
          "base_uri": "https://localhost:8080/",
          "height": 173
        }
      },
      "source": [
        "%%time\n",
        "for i in range(100):\n",
        "  a = torch.randn([100,100])\n",
        "  b = torch.randn([100,100])\n",
        "  c = torch.matmul(a,b)\n",
        "print(c)"
      ],
      "execution_count": 17,
      "outputs": [
        {
          "output_type": "stream",
          "text": [
            "tensor([[ -5.4587,  23.6062,   2.5742,  ...,   8.6225,   1.9145,  -8.9148],\n",
            "        [-13.2948,  -1.3387,  12.6494,  ...,  -1.5454,  -3.6752,  -7.8591],\n",
            "        [ -3.2499, -19.6330,   7.8971,  ...,   7.8810,  -9.7527,   6.0241],\n",
            "        ...,\n",
            "        [  5.0440, -21.5526,  -9.7747,  ...,  21.7456,   6.5434,   7.9459],\n",
            "        [ 10.1167,  -4.3353, -10.4853,  ...,  -7.4252,  -8.0626,  -2.6525],\n",
            "        [  6.1640,  11.4137,   4.8035,  ...,   6.5914,   3.4598, -15.7465]])\n",
            "CPU times: user 24.2 ms, sys: 652 µs, total: 24.9 ms\n",
            "Wall time: 48.2 ms\n"
          ],
          "name": "stdout"
        }
      ]
    },
    {
      "cell_type": "code",
      "metadata": {
        "id": "VIkKdht2rebr",
        "colab_type": "code",
        "outputId": "5242522d-8386-4b43-e8d1-5be33b1d410b",
        "colab": {
          "base_uri": "https://localhost:8080/",
          "height": 52
        }
      },
      "source": [
        "%%time\n",
        "for i in range(1000):\n",
        "  a = np.random.randn(1000,1000)\n",
        "  b = np.random.randn(1000,1000)\n",
        "  c = a + b"
      ],
      "execution_count": 18,
      "outputs": [
        {
          "output_type": "stream",
          "text": [
            "CPU times: user 1min 21s, sys: 62.5 ms, total: 1min 21s\n",
            "Wall time: 1min 21s\n"
          ],
          "name": "stdout"
        }
      ]
    },
    {
      "cell_type": "code",
      "metadata": {
        "id": "uDQVCofFvE8_",
        "colab_type": "code",
        "outputId": "080c318a-b638-44bd-a0ca-801de0210202",
        "colab": {
          "base_uri": "https://localhost:8080/",
          "height": 52
        }
      },
      "source": [
        "%%time\n",
        "for i in range(1000):\n",
        "  a = torch.randn([1000,1000])\n",
        "  b = torch.randn([1000,1000])\n",
        "  c = a + b"
      ],
      "execution_count": 19,
      "outputs": [
        {
          "output_type": "stream",
          "text": [
            "CPU times: user 13.4 s, sys: 68.2 ms, total: 13.5 s\n",
            "Wall time: 13.5 s\n"
          ],
          "name": "stdout"
        }
      ]
    },
    {
      "cell_type": "code",
      "metadata": {
        "id": "eTdm1eNmvoE5",
        "colab_type": "code",
        "outputId": "7746365a-7ca4-4a85-8147-bc4fed78696e",
        "colab": {
          "base_uri": "https://localhost:8080/",
          "height": 52
        }
      },
      "source": [
        "%%time\n",
        "for i in range(1000):\n",
        "  a = np.random.randn(1000,1000)\n",
        "  b = np.random.randn(1000,1000)\n",
        "  c = a * b"
      ],
      "execution_count": 20,
      "outputs": [
        {
          "output_type": "stream",
          "text": [
            "CPU times: user 1min 21s, sys: 89.9 ms, total: 1min 21s\n",
            "Wall time: 1min 21s\n"
          ],
          "name": "stdout"
        }
      ]
    },
    {
      "cell_type": "code",
      "metadata": {
        "id": "Fa-ebW3Xv5h5",
        "colab_type": "code",
        "outputId": "1b8187c1-e218-438e-be92-67b511d90b79",
        "colab": {
          "base_uri": "https://localhost:8080/",
          "height": 52
        }
      },
      "source": [
        "%%time\n",
        "for i in range(1000):\n",
        "  a = torch.randn([1000,1000])\n",
        "  b = torch.randn([1000,1000])\n",
        "  c = a * b"
      ],
      "execution_count": 21,
      "outputs": [
        {
          "output_type": "stream",
          "text": [
            "CPU times: user 13.5 s, sys: 60 ms, total: 13.6 s\n",
            "Wall time: 13.6 s\n"
          ],
          "name": "stdout"
        }
      ]
    },
    {
      "cell_type": "markdown",
      "metadata": {
        "id": "36EOOc8yvktb",
        "colab_type": "text"
      },
      "source": [
        "#CUDA suppport"
      ]
    },
    {
      "cell_type": "code",
      "metadata": {
        "id": "eGcVWVEKtsuF",
        "colab_type": "code",
        "colab": {}
      },
      "source": [
        "## this section compares the performance of tensor on CPU with the tensor on GPU. the tensor on GPU shows 3 fold increase in performace.\n",
        "##  as compared to numpy , gives almost 10 fold increase in speed"
      ],
      "execution_count": 0,
      "outputs": []
    },
    {
      "cell_type": "code",
      "metadata": {
        "id": "hBb-DZA8veiU",
        "colab_type": "code",
        "outputId": "803ab8fc-b846-47e6-bdb6-68745125dbfa",
        "colab": {
          "base_uri": "https://localhost:8080/",
          "height": 35
        }
      },
      "source": [
        "print(torch.cuda.device_count())"
      ],
      "execution_count": 22,
      "outputs": [
        {
          "output_type": "stream",
          "text": [
            "1\n"
          ],
          "name": "stdout"
        }
      ]
    },
    {
      "cell_type": "code",
      "metadata": {
        "id": "i9nqp-wrxVSy",
        "colab_type": "code",
        "outputId": "34c5aa46-0da3-462f-f865-246a27283212",
        "colab": {
          "base_uri": "https://localhost:8080/",
          "height": 35
        }
      },
      "source": [
        "print(torch.cuda.device(0))"
      ],
      "execution_count": 23,
      "outputs": [
        {
          "output_type": "stream",
          "text": [
            "<torch.cuda.device object at 0x7f492bfb9f28>\n"
          ],
          "name": "stdout"
        }
      ]
    },
    {
      "cell_type": "code",
      "metadata": {
        "id": "zab61Tpnxhbf",
        "colab_type": "code",
        "outputId": "6fc0b21c-da9f-4611-e229-554baf214544",
        "colab": {
          "base_uri": "https://localhost:8080/",
          "height": 35
        }
      },
      "source": [
        "print(torch.cuda.get_device_name(0))"
      ],
      "execution_count": 24,
      "outputs": [
        {
          "output_type": "stream",
          "text": [
            "Tesla P4\n"
          ],
          "name": "stdout"
        }
      ]
    },
    {
      "cell_type": "code",
      "metadata": {
        "id": "hQPty3tCxrWt",
        "colab_type": "code",
        "colab": {}
      },
      "source": [
        "cuda0 = torch.device('cuda:0')"
      ],
      "execution_count": 0,
      "outputs": []
    },
    {
      "cell_type": "code",
      "metadata": {
        "id": "GmwesbWzVZC9",
        "colab_type": "code",
        "colab": {
          "base_uri": "https://localhost:8080/",
          "height": 104
        },
        "outputId": "e63ab7cd-f52f-48b5-8bb2-915570ae5141"
      },
      "source": [
        "%%time\n",
        "a = torch.ones(3,2, device=cuda0)\n",
        "b = torch.ones(3,2, device=cuda0)\n",
        "c = a + b\n",
        "print(c)"
      ],
      "execution_count": 27,
      "outputs": [
        {
          "output_type": "stream",
          "text": [
            "tensor([[2., 2.],\n",
            "        [2., 2.],\n",
            "        [2., 2.]], device='cuda:0')\n",
            "CPU times: user 3.95 ms, sys: 1.02 ms, total: 4.97 ms\n",
            "Wall time: 35 ms\n"
          ],
          "name": "stdout"
        }
      ]
    },
    {
      "cell_type": "code",
      "metadata": {
        "id": "hDyoZrgKVp6O",
        "colab_type": "code",
        "colab": {
          "base_uri": "https://localhost:8080/",
          "height": 69
        },
        "outputId": "3a1af9bb-458e-4b4e-db64-54c21d223322"
      },
      "source": [
        "print(a)"
      ],
      "execution_count": 28,
      "outputs": [
        {
          "output_type": "stream",
          "text": [
            "tensor([[1., 1.],\n",
            "        [1., 1.],\n",
            "        [1., 1.]], device='cuda:0')\n"
          ],
          "name": "stdout"
        }
      ]
    },
    {
      "cell_type": "code",
      "metadata": {
        "id": "itiyVYJrVzK-",
        "colab_type": "code",
        "colab": {
          "base_uri": "https://localhost:8080/",
          "height": 52
        },
        "outputId": "16d38c62-04bd-42ce-c640-b2a14b22d319"
      },
      "source": [
        "%%time\n",
        "for i in range(100):\n",
        "  a = np.random.randn(100,100)\n",
        "  b = np.random.randn(100,100)\n",
        "  c= np.add(a,b)"
      ],
      "execution_count": 29,
      "outputs": [
        {
          "output_type": "stream",
          "text": [
            "CPU times: user 83.3 ms, sys: 1.99 ms, total: 85.3 ms\n",
            "Wall time: 94.5 ms\n"
          ],
          "name": "stdout"
        }
      ]
    },
    {
      "cell_type": "code",
      "metadata": {
        "id": "AEgIH9LJWGGy",
        "colab_type": "code",
        "colab": {
          "base_uri": "https://localhost:8080/",
          "height": 52
        },
        "outputId": "0e3d72e5-38bf-4bfb-9548-fe5f3f22d600"
      },
      "source": [
        "%%time\n",
        "for i in range(100):\n",
        "  a = torch.randn([100,100])\n",
        "  b = torch.randn([100,100])\n",
        "  b.add_(a)"
      ],
      "execution_count": 30,
      "outputs": [
        {
          "output_type": "stream",
          "text": [
            "CPU times: user 18 ms, sys: 1.99 ms, total: 20 ms\n",
            "Wall time: 22.3 ms\n"
          ],
          "name": "stdout"
        }
      ]
    },
    {
      "cell_type": "code",
      "metadata": {
        "id": "uynxqTE0WZ4W",
        "colab_type": "code",
        "colab": {
          "base_uri": "https://localhost:8080/",
          "height": 52
        },
        "outputId": "ff6f96fa-c15e-473e-f6d8-3e721f4c2468"
      },
      "source": [
        "%%time\n",
        "for i in range(100):\n",
        "  a = torch.randn([100,100], device=cuda0)\n",
        "  b = torch.randn([100,100], device=cuda0)\n",
        "  b.add_(a)"
      ],
      "execution_count": 31,
      "outputs": [
        {
          "output_type": "stream",
          "text": [
            "CPU times: user 3.87 ms, sys: 8 µs, total: 3.88 ms\n",
            "Wall time: 8.23 ms\n"
          ],
          "name": "stdout"
        }
      ]
    },
    {
      "cell_type": "code",
      "metadata": {
        "id": "2dIQTOR-WyVE",
        "colab_type": "code",
        "colab": {
          "base_uri": "https://localhost:8080/",
          "height": 52
        },
        "outputId": "74d21fed-9980-4620-bd2b-9ff2ae43594c"
      },
      "source": [
        "%%time\n",
        "for i in range(1000):\n",
        "  a = np.random.randn(1000,1000)\n",
        "  b = np.random.randn(1000,1000)\n",
        "  c = np.matmul(a,b)"
      ],
      "execution_count": 32,
      "outputs": [
        {
          "output_type": "stream",
          "text": [
            "CPU times: user 3min 25s, sys: 1min 21s, total: 4min 47s\n",
            "Wall time: 2min 25s\n"
          ],
          "name": "stdout"
        }
      ]
    },
    {
      "cell_type": "code",
      "metadata": {
        "id": "n4jsMDfYXOuH",
        "colab_type": "code",
        "colab": {
          "base_uri": "https://localhost:8080/",
          "height": 52
        },
        "outputId": "3d7e25c4-e347-4afc-ad71-4d4cd5b98e8c"
      },
      "source": [
        "%%time\n",
        "for i in range(1000):\n",
        "  a = torch.randn([1000,1000])\n",
        "  b = torch.randn([1000,1000])\n",
        "  c = torch.matmul(a,b)"
      ],
      "execution_count": 33,
      "outputs": [
        {
          "output_type": "stream",
          "text": [
            "CPU times: user 27.3 s, sys: 158 ms, total: 27.4 s\n",
            "Wall time: 27.4 s\n"
          ],
          "name": "stdout"
        }
      ]
    },
    {
      "cell_type": "code",
      "metadata": {
        "id": "FbX45LUeXdIL",
        "colab_type": "code",
        "colab": {
          "base_uri": "https://localhost:8080/",
          "height": 52
        },
        "outputId": "f5abf242-975e-4815-b304-8d441d984a02"
      },
      "source": [
        "%%time\n",
        "for i in range(1000):\n",
        "  a = torch.randn([1000,1000], device=cuda0)\n",
        "  b = torch.randn([1000,1000], device=cuda0)\n",
        "  c = torch.matmul(a,b)"
      ],
      "execution_count": 34,
      "outputs": [
        {
          "output_type": "stream",
          "text": [
            "CPU times: user 282 ms, sys: 183 ms, total: 465 ms\n",
            "Wall time: 465 ms\n"
          ],
          "name": "stdout"
        }
      ]
    },
    {
      "cell_type": "markdown",
      "metadata": {
        "id": "YsxiBlm3Ykdu",
        "colab_type": "text"
      },
      "source": [
        "# AutoGrad"
      ]
    },
    {
      "cell_type": "code",
      "metadata": {
        "id": "F9zeFxWUueMT",
        "colab_type": "code",
        "colab": {}
      },
      "source": [
        "## this section contains code samples to implement auto gradient in pytorch"
      ],
      "execution_count": 0,
      "outputs": []
    },
    {
      "cell_type": "code",
      "metadata": {
        "id": "kIg1lFS7XuAR",
        "colab_type": "code",
        "colab": {
          "base_uri": "https://localhost:8080/",
          "height": 69
        },
        "outputId": "2246073a-8745-4197-de5c-690177d529ec"
      },
      "source": [
        "x = torch.ones([3,2],requires_grad=True)\n",
        "print(x)"
      ],
      "execution_count": 36,
      "outputs": [
        {
          "output_type": "stream",
          "text": [
            "tensor([[1., 1.],\n",
            "        [1., 1.],\n",
            "        [1., 1.]], requires_grad=True)\n"
          ],
          "name": "stdout"
        }
      ]
    },
    {
      "cell_type": "code",
      "metadata": {
        "id": "rUIS2s1fY0F1",
        "colab_type": "code",
        "colab": {
          "base_uri": "https://localhost:8080/",
          "height": 69
        },
        "outputId": "a37f0fff-6cab-4a9b-aa7b-42a6e3e2f44e"
      },
      "source": [
        "y = x + 5\n",
        "print(y)"
      ],
      "execution_count": 37,
      "outputs": [
        {
          "output_type": "stream",
          "text": [
            "tensor([[6., 6.],\n",
            "        [6., 6.],\n",
            "        [6., 6.]], grad_fn=<AddBackward0>)\n"
          ],
          "name": "stdout"
        }
      ]
    },
    {
      "cell_type": "code",
      "metadata": {
        "id": "y4ibaItdY5wn",
        "colab_type": "code",
        "colab": {
          "base_uri": "https://localhost:8080/",
          "height": 69
        },
        "outputId": "6e5ca3e5-4004-4b3d-e1d3-1ba7a321d148"
      },
      "source": [
        "z = y**2 + 1\n",
        "print(z)"
      ],
      "execution_count": 38,
      "outputs": [
        {
          "output_type": "stream",
          "text": [
            "tensor([[37., 37.],\n",
            "        [37., 37.],\n",
            "        [37., 37.]], grad_fn=<AddBackward0>)\n"
          ],
          "name": "stdout"
        }
      ]
    },
    {
      "cell_type": "code",
      "metadata": {
        "id": "qfi9CIJcZAd8",
        "colab_type": "code",
        "colab": {
          "base_uri": "https://localhost:8080/",
          "height": 35
        },
        "outputId": "9e3ffdcb-b1c3-4a62-c80a-67fb19db100e"
      },
      "source": [
        "t = torch.sum(z)\n",
        "print(t)"
      ],
      "execution_count": 39,
      "outputs": [
        {
          "output_type": "stream",
          "text": [
            "tensor(222., grad_fn=<SumBackward0>)\n"
          ],
          "name": "stdout"
        }
      ]
    },
    {
      "cell_type": "code",
      "metadata": {
        "id": "ZubRjzOlZFwy",
        "colab_type": "code",
        "colab": {}
      },
      "source": [
        "t.backward()"
      ],
      "execution_count": 0,
      "outputs": []
    },
    {
      "cell_type": "code",
      "metadata": {
        "id": "0Jh5NLR-ZVeA",
        "colab_type": "code",
        "colab": {
          "base_uri": "https://localhost:8080/",
          "height": 69
        },
        "outputId": "394c0ae5-e282-45db-88af-152c7c8fb323"
      },
      "source": [
        "print(x.grad)"
      ],
      "execution_count": 42,
      "outputs": [
        {
          "output_type": "stream",
          "text": [
            "tensor([[12., 12.],\n",
            "        [12., 12.],\n",
            "        [12., 12.]])\n"
          ],
          "name": "stdout"
        }
      ]
    },
    {
      "cell_type": "code",
      "metadata": {
        "id": "o5ufYH3GZZ-b",
        "colab_type": "code",
        "colab": {
          "base_uri": "https://localhost:8080/",
          "height": 35
        },
        "outputId": "729dd696-dc58-454e-a27d-96198c70ab52"
      },
      "source": [
        "print(z.grad)"
      ],
      "execution_count": 44,
      "outputs": [
        {
          "output_type": "stream",
          "text": [
            "None\n"
          ],
          "name": "stdout"
        }
      ]
    },
    {
      "cell_type": "code",
      "metadata": {
        "id": "dPatYIhCa_vk",
        "colab_type": "code",
        "colab": {
          "base_uri": "https://localhost:8080/",
          "height": 243
        },
        "outputId": "479b4619-2ec2-4da0-e1b4-dc8dc55ff802"
      },
      "source": [
        "x = torch.ones([3,2], requires_grad=True)\n",
        "print(x)\n",
        "y = x + 5\n",
        "print(y)\n",
        "r = 1 / (1 + torch.exp(-y))\n",
        "print(r)\n",
        "s = torch.sum(r)\n",
        "print(s)\n",
        "s.backward()\n",
        "print(x.grad)\n",
        "## f(x)(1-f(x))"
      ],
      "execution_count": 47,
      "outputs": [
        {
          "output_type": "stream",
          "text": [
            "tensor([[1., 1.],\n",
            "        [1., 1.],\n",
            "        [1., 1.]], requires_grad=True)\n",
            "tensor([[6., 6.],\n",
            "        [6., 6.],\n",
            "        [6., 6.]], grad_fn=<AddBackward0>)\n",
            "tensor([[0.9975, 0.9975],\n",
            "        [0.9975, 0.9975],\n",
            "        [0.9975, 0.9975]], grad_fn=<MulBackward0>)\n",
            "tensor(5.9852, grad_fn=<SumBackward0>)\n",
            "tensor([[0.0025, 0.0025],\n",
            "        [0.0025, 0.0025],\n",
            "        [0.0025, 0.0025]])\n"
          ],
          "name": "stdout"
        }
      ]
    },
    {
      "cell_type": "code",
      "metadata": {
        "id": "XO3JHiHidWUT",
        "colab_type": "code",
        "colab": {
          "base_uri": "https://localhost:8080/",
          "height": 69
        },
        "outputId": "f866f4f8-b637-4c44-99bf-6eced02b84b9"
      },
      "source": [
        "x = torch.ones([3,2], requires_grad=True)\n",
        "y = x + 5\n",
        "r = 1/(1 + torch.exp(-y))\n",
        "a = torch.ones([3,2])\n",
        "r.backward(a)\n",
        "print(x.grad)"
      ],
      "execution_count": 49,
      "outputs": [
        {
          "output_type": "stream",
          "text": [
            "tensor([[0.0025, 0.0025],\n",
            "        [0.0025, 0.0025],\n",
            "        [0.0025, 0.0025]])\n"
          ],
          "name": "stdout"
        }
      ]
    },
    {
      "cell_type": "markdown",
      "metadata": {
        "id": "B7kUmzSofN1U",
        "colab_type": "text"
      },
      "source": [
        "#AutoDiff examples"
      ]
    },
    {
      "cell_type": "code",
      "metadata": {
        "id": "5BkegLNmuoDP",
        "colab_type": "code",
        "colab": {}
      },
      "source": [
        "# this section contains code sample to implement backward propagation and calculate the gradient w.r.t w and b using pytorch"
      ],
      "execution_count": 0,
      "outputs": []
    },
    {
      "cell_type": "code",
      "metadata": {
        "id": "z4LsPtvQfGw9",
        "colab_type": "code",
        "colab": {
          "base_uri": "https://localhost:8080/",
          "height": 121
        },
        "outputId": "9ffd18c8-2e6f-4bc7-8050-5c4a3f7aa0b2"
      },
      "source": [
        "x = torch.randn(3,4)\n",
        "y = torch.randn([3,4])\n",
        "print(y)\n",
        "print(x)"
      ],
      "execution_count": 53,
      "outputs": [
        {
          "output_type": "stream",
          "text": [
            "tensor([[ 1.2777, -0.0935, -0.8347, -0.9409],\n",
            "        [ 0.1342,  0.4996, -0.1175,  0.4126],\n",
            "        [ 1.6697,  0.8942,  0.3227,  0.7073]])\n",
            "tensor([[ 2.0023, -0.8934, -0.1259, -1.8558],\n",
            "        [-1.6388, -0.4193, -0.0171, -1.5940],\n",
            "        [-0.2247,  1.5901,  0.7409, -1.3532]])\n"
          ],
          "name": "stdout"
        }
      ]
    },
    {
      "cell_type": "code",
      "metadata": {
        "id": "OvNULTcFf2RY",
        "colab_type": "code",
        "colab": {}
      },
      "source": [
        "x = torch.randn([20,1],requires_grad=True)\n",
        "y = 3*x-2"
      ],
      "execution_count": 0,
      "outputs": []
    },
    {
      "cell_type": "code",
      "metadata": {
        "id": "0urNK0Bgf3sz",
        "colab_type": "code",
        "colab": {}
      },
      "source": [
        "w = torch.tensor([1.],requires_grad=True)\n",
        "b = torch.tensor([1.],requires_grad=True)\n",
        "\n",
        "y_hat = w*x + b\n",
        "\n",
        "loss = torch.sum((y_hat - y)**2)"
      ],
      "execution_count": 0,
      "outputs": []
    },
    {
      "cell_type": "code",
      "metadata": {
        "id": "ceyOlF2Xf9Qt",
        "colab_type": "code",
        "colab": {
          "base_uri": "https://localhost:8080/",
          "height": 35
        },
        "outputId": "2c9de825-b4a6-4d43-dc29-3f9b070cc74d"
      },
      "source": [
        "print(loss)"
      ],
      "execution_count": 56,
      "outputs": [
        {
          "output_type": "stream",
          "text": [
            "tensor(334.8817, grad_fn=<SumBackward0>)\n"
          ],
          "name": "stdout"
        }
      ]
    },
    {
      "cell_type": "code",
      "metadata": {
        "id": "E_neKWX3g_kT",
        "colab_type": "code",
        "colab": {}
      },
      "source": [
        "loss.backward()"
      ],
      "execution_count": 0,
      "outputs": []
    },
    {
      "cell_type": "code",
      "metadata": {
        "id": "jfXaR6wFhGQh",
        "colab_type": "code",
        "colab": {
          "base_uri": "https://localhost:8080/",
          "height": 35
        },
        "outputId": "65a3e55a-1530-4f2e-9144-ef076a236583"
      },
      "source": [
        "print(w.grad, b.grad)"
      ],
      "execution_count": 58,
      "outputs": [
        {
          "output_type": "stream",
          "text": [
            "tensor([-127.1854]) tensor([138.4642])\n"
          ],
          "name": "stdout"
        }
      ]
    },
    {
      "cell_type": "markdown",
      "metadata": {
        "id": "pV46XcsOiWmU",
        "colab_type": "text"
      },
      "source": [
        "# Do it in loop"
      ]
    },
    {
      "cell_type": "code",
      "metadata": {
        "id": "PiHupucqu2vb",
        "colab_type": "code",
        "colab": {}
      },
      "source": [
        "## this section contains code sample to implement backward propogation and calculating the gradient inside a loop"
      ],
      "execution_count": 0,
      "outputs": []
    },
    {
      "cell_type": "code",
      "metadata": {
        "id": "uNmlvoLQhJql",
        "colab_type": "code",
        "colab": {
          "base_uri": "https://localhost:8080/",
          "height": 1000
        },
        "outputId": "258876b3-1c84-4197-8684-5ed73405da23"
      },
      "source": [
        "learning_rate = 0.01\n",
        "\n",
        "w = torch.tensor([1.], requires_grad=True)\n",
        "b = torch.tensor([1.], requires_grad=True)\n",
        "\n",
        "print(w.item(),b.item())\n",
        "\n",
        "for i in range(100):\n",
        "  x = torch.randn([20,1], requires_grad=True)\n",
        "  y = 3*x - 2\n",
        "\n",
        "  y_hat = w*x + b\n",
        "\n",
        "  loss = torch.sum((y_hat - y)**2)\n",
        "\n",
        "  loss.backward()\n",
        "\n",
        "  with torch.no_grad():\n",
        "    w -= learning_rate * w.grad\n",
        "    b -= learning_rate * b.grad\n",
        "  \n",
        "    w.grad.zero_()\n",
        "    b.grad.zero_()\n",
        "\n",
        "  print(w.item(),b.item())"
      ],
      "execution_count": 61,
      "outputs": [
        {
          "output_type": "stream",
          "text": [
            "1.0 1.0\n",
            "1.3653686046600342 -0.20183420181274414\n",
            "2.163545608520508 -0.9534950852394104\n",
            "2.6697046756744385 -1.4865671396255493\n",
            "2.8838067054748535 -1.7623467445373535\n",
            "2.900139808654785 -1.8499082326889038\n",
            "2.934882640838623 -1.9178310632705688\n",
            "2.9628794193267822 -1.9464858770370483\n",
            "2.9838085174560547 -1.9743738174438477\n",
            "2.990326166152954 -1.9831805229187012\n",
            "2.9930920600891113 -1.9898134469985962\n",
            "2.9947290420532227 -1.993674397468567\n",
            "2.996565103530884 -1.9961423873901367\n",
            "2.9975526332855225 -1.997622013092041\n",
            "2.997821092605591 -1.998042345046997\n",
            "2.998828411102295 -1.9990679025650024\n",
            "2.9989993572235107 -1.9993088245391846\n",
            "2.9994194507598877 -1.999682903289795\n",
            "2.9996960163116455 -1.9998438358306885\n",
            "2.9997994899749756 -1.9998881816864014\n",
            "2.9999022483825684 -1.9999586343765259\n",
            "2.999927282333374 -1.9999706745147705\n",
            "2.999958038330078 -1.9999847412109375\n",
            "2.9999775886535645 -1.9999871253967285\n",
            "2.999980926513672 -1.9999891519546509\n",
            "2.999992609024048 -1.9999943971633911\n",
            "2.9999964237213135 -1.9999972581863403\n",
            "2.999997854232788 -1.9999984502792358\n",
            "2.9999985694885254 -1.9999988079071045\n",
            "2.9999990463256836 -1.9999992847442627\n",
            "2.9999992847442627 -1.9999996423721313\n",
            "2.999999523162842 -1.999999761581421\n",
            "2.999999761581421 -1.9999998807907104\n",
            "2.999999761581421 -1.9999998807907104\n",
            "3.0 -1.9999998807907104\n",
            "3.0 -1.9999998807907104\n",
            "3.0 -1.9999998807907104\n",
            "3.0 -1.9999998807907104\n",
            "3.0 -1.9999998807907104\n",
            "3.0 -1.9999998807907104\n",
            "3.0 -1.9999998807907104\n",
            "3.0 -1.9999998807907104\n",
            "3.0 -1.9999998807907104\n",
            "3.0 -1.9999998807907104\n",
            "3.0 -1.9999998807907104\n",
            "3.0 -1.9999998807907104\n",
            "3.0 -1.9999998807907104\n",
            "3.0 -1.9999998807907104\n",
            "3.0 -1.9999998807907104\n",
            "3.0 -1.9999998807907104\n",
            "3.0 -1.9999998807907104\n",
            "3.0 -1.9999998807907104\n",
            "3.0 -1.9999998807907104\n",
            "3.0 -1.9999998807907104\n",
            "3.0 -1.9999998807907104\n",
            "3.0 -1.9999998807907104\n",
            "3.0 -1.9999998807907104\n",
            "3.0 -1.9999998807907104\n",
            "3.0 -1.9999998807907104\n",
            "3.0 -1.9999998807907104\n",
            "3.0 -1.9999998807907104\n",
            "3.0 -1.9999998807907104\n",
            "3.0 -1.9999998807907104\n",
            "3.0 -1.9999998807907104\n",
            "3.0 -1.9999998807907104\n",
            "3.0 -1.9999998807907104\n",
            "3.0 -1.9999998807907104\n",
            "3.0 -1.9999998807907104\n",
            "3.0 -1.9999998807907104\n",
            "3.0 -1.9999998807907104\n",
            "3.0 -1.9999998807907104\n",
            "3.0 -1.9999998807907104\n",
            "3.0 -1.9999998807907104\n",
            "3.0 -1.9999998807907104\n",
            "3.0 -1.9999998807907104\n",
            "3.0 -1.9999998807907104\n",
            "3.0 -1.9999998807907104\n",
            "3.0 -1.9999998807907104\n",
            "3.0 -1.9999998807907104\n",
            "3.0 -1.9999998807907104\n",
            "3.0 -1.9999998807907104\n",
            "3.0 -1.9999998807907104\n",
            "3.0 -1.9999998807907104\n",
            "3.0 -1.9999998807907104\n",
            "3.0 -1.9999998807907104\n",
            "3.0 -1.9999998807907104\n",
            "3.0 -1.9999998807907104\n",
            "3.0 -1.9999998807907104\n",
            "3.0 -1.9999998807907104\n",
            "3.0 -1.9999998807907104\n",
            "3.0 -1.9999998807907104\n",
            "3.0 -1.9999998807907104\n",
            "3.0 -1.9999998807907104\n",
            "3.0 -1.9999998807907104\n",
            "3.0 -1.9999998807907104\n",
            "3.0 -1.9999998807907104\n",
            "3.0 -1.9999998807907104\n",
            "3.0 -1.9999998807907104\n",
            "3.0 -1.9999998807907104\n",
            "3.0 -1.9999998807907104\n",
            "3.0 -1.9999998807907104\n"
          ],
          "name": "stdout"
        }
      ]
    },
    {
      "cell_type": "markdown",
      "metadata": {
        "id": "z7eN7tekkQO_",
        "colab_type": "text"
      },
      "source": [
        "# do it for large problem"
      ]
    },
    {
      "cell_type": "code",
      "metadata": {
        "id": "ca0XmMdJvFWO",
        "colab_type": "code",
        "colab": {}
      },
      "source": [
        "## this section contains code sample to implement backwward propogation for large datasets and comapres the performace \n",
        "##difference by implementing the same using GPU"
      ],
      "execution_count": 0,
      "outputs": []
    },
    {
      "cell_type": "code",
      "metadata": {
        "id": "RV0OS7h0i0MB",
        "colab_type": "code",
        "colab": {
          "base_uri": "https://localhost:8080/",
          "height": 52
        },
        "outputId": "6f62a810-c952-4008-830e-e0d1e6130923"
      },
      "source": [
        "%%time\n",
        "\n",
        "learning_rate = 0.001\n",
        "N = 10000000\n",
        "epochs=200\n",
        "\n",
        "w = torch.randn([N], requires_grad=True)\n",
        "b = torch.ones([1], requires_grad=True)\n",
        "\n",
        "for i in range(epochs):\n",
        "  x = torch.randn([N], requires_grad = True)\n",
        "  y = torch.dot(3 * torch.ones([N]),x) - 2\n",
        "\n",
        "  y_hat = torch.dot(w,x) + b\n",
        "\n",
        "  loss = torch.sum((y_hat - y)**2)\n",
        "\n",
        "  loss.backward()\n",
        "\n",
        "  with torch.no_grad():\n",
        "    w-= learning_rate * w.grad\n",
        "    b-= learning_rate * b.grad\n",
        "\n",
        "    w.grad.zero_()\n",
        "    b.grad.zero_()"
      ],
      "execution_count": 71,
      "outputs": [
        {
          "output_type": "stream",
          "text": [
            "CPU times: user 31.6 s, sys: 439 ms, total: 32.1 s\n",
            "Wall time: 32.2 s\n"
          ],
          "name": "stdout"
        }
      ]
    },
    {
      "cell_type": "code",
      "metadata": {
        "id": "hF6InKI0m5Vu",
        "colab_type": "code",
        "colab": {
          "base_uri": "https://localhost:8080/",
          "height": 52
        },
        "outputId": "8cada093-b905-474b-8533-be9e5ec0fe7c"
      },
      "source": [
        "%%time\n",
        "\n",
        "learning_rate = 0.001\n",
        "N = 10000000\n",
        "epochs = 200\n",
        "\n",
        "w = torch.randn([N], requires_grad=True , device= cuda0)\n",
        "b = torch.ones([1], requires_grad=True , device = cuda0)\n",
        "\n",
        "for i in range(epochs):\n",
        "  x = torch.randn([N], requires_grad = True, device= cuda0)\n",
        "  y = torch.dot(3 * torch.ones([N], device= cuda0),x) - 2\n",
        "  \n",
        "  y_hat = torch.dot(w,x) + b\n",
        "\n",
        "  loss = torch.sum((y_hat - y)**2)\n",
        "\n",
        "  loss.backward()\n",
        "\n",
        "  with torch.no_grad():\n",
        "    w -= learning_rate * w.grad\n",
        "    b -= learning_rate * b.grad\n",
        "\n",
        "    w.grad.zero_()\n",
        "    b.grad.zero_()"
      ],
      "execution_count": 72,
      "outputs": [
        {
          "output_type": "stream",
          "text": [
            "CPU times: user 908 ms, sys: 587 ms, total: 1.5 s\n",
            "Wall time: 1.51 s\n"
          ],
          "name": "stdout"
        }
      ]
    },
    {
      "cell_type": "code",
      "metadata": {
        "id": "OOjLmvQvpjOC",
        "colab_type": "code",
        "colab": {}
      },
      "source": [
        ""
      ],
      "execution_count": 0,
      "outputs": []
    }
  ]
}